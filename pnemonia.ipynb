{
  "nbformat": 4,
  "nbformat_minor": 0,
  "metadata": {
    "colab": {
      "provenance": [],
      "toc_visible": true
    },
    "kernelspec": {
      "name": "python3",
      "display_name": "Python 3"
    },
    "accelerator": "GPU"
  },
  "cells": [
    {
      "cell_type": "code",
      "metadata": {
        "id": "MRU6fttf68CO"
      },
      "source": [
        "!cd sample_data\n",
        "\n"
      ],
      "execution_count": null,
      "outputs": []
    },
    {
      "cell_type": "code",
      "metadata": {
        "id": "v7fRpLvLOUvl",
        "colab": {
          "base_uri": "https://localhost:8080/",
          "height": 34
        },
        "outputId": "f574f4a7-4165-4179-e499-8f60868a2412"
      },
      "source": [
        "!ls"
      ],
      "execution_count": null,
      "outputs": [
        {
          "output_type": "stream",
          "text": [
            "sample_data\n"
          ],
          "name": "stdout"
        }
      ]
    },
    {
      "cell_type": "code",
      "metadata": {
        "id": "p_SgwvpI7fAC"
      },
      "source": [
        "import numpy as np # linear algebra\n",
        "import pandas as pd # data processing, CSV file I/O (e.g. pd.read_csv)\n",
        "\n",
        "# Input data files are available in the \"../input/\" directory.\n",
        "# For example, running this (by clicking run or pressing Shift+Enter) will list the files in the input directory\n",
        "import matplotlib.pyplot as plt\n",
        "import os\n",
        "from PIL import Image\n",
        "\n",
        "\n",
        "import keras\n",
        "from keras.models import Sequential\n",
        "from keras.layers import Conv2D,Activation\n",
        "from keras.layers import MaxPooling2D\n",
        "from keras.layers import Flatten\n",
        "from keras.layers import Dense\n",
        "from keras.layers import SeparableConv2D\n",
        "from keras.layers import BatchNormalization\n",
        "from keras.layers import Dropout\n",
        "from keras.preprocessing.image import ImageDataGenerator, load_img\n",
        "from keras.callbacks import ModelCheckpoint\n",
        "from keras import optimizers,regularizers"
      ],
      "execution_count": null,
      "outputs": []
    },
    {
      "cell_type": "code",
      "metadata": {
        "id": "QcZMUHJDkyH4",
        "outputId": "ab7e24fd-49f3-44e7-9576-f706af3897be",
        "colab": {
          "base_uri": "https://localhost:8080/",
          "height": 34
        }
      },
      "source": [],
      "execution_count": null,
      "outputs": [
        {
          "output_type": "execute_result",
          "data": {
            "text/plain": [
              "True"
            ]
          },
          "metadata": {
            "tags": []
          },
          "execution_count": 5
        }
      ]
    },
    {
      "cell_type": "code",
      "metadata": {
        "id": "F5FE79V87x9n"
      },
      "source": [
        "DATA_DIR = \"chest_xray\"\n",
        "TEST_NORMAL = \"chest_xray/test/NORMAL\"\n",
        "TRAIN_NORMAL = \"chest_xray/train/NORMAL\"\n",
        "VALIDATION_NORMAl = \"chest_xray/val/NORMAL\"\n",
        "TEST_PNEUMONIA = \"chest_xray/test/PNEUMONIA\"\n",
        "TRAIN_PNEUMONIA = \"chest_xray/train/PNEUMONIA\"\n",
        "VALIDATION_NORMAl = \"/chest_xray/val/PNEUMONIA\""
      ],
      "execution_count": null,
      "outputs": []
    },
    {
      "cell_type": "code",
      "metadata": {
        "id": "nxH7XuSq8Kq7",
        "outputId": "68e2bf85-a0bb-427f-99ba-dd978084cfb7",
        "colab": {
          "base_uri": "https://localhost:8080/",
          "height": 229
        }
      },
      "source": [
        "import random\n",
        "rand_normal = random.choice(os.listdir(TRAIN_NORMAL))\n",
        "rand_pnemonia = random.choice(os.listdir(TRAIN_PNEUMONIA))\n",
        "\n",
        "nor_im = Image.open(TRAIN_NORMAL + \"/\"+rand_normal)\n",
        "pne_im = Image.open(TRAIN_PNEUMONIA + \"/\"+rand_pnemonia)\n",
        "\n",
        "a = plt.figure(figsize=(20,10))\n",
        "\n",
        "a1 = a.add_subplot(1,2,1)\n",
        "imgplot = plt.imshow(nor_im)\n",
        "a1.set_title(\"normal\")\n",
        "\n",
        "a2 = a.add_subplot(1,2,2)\n",
        "imgplot = plt.imshow(pne_im)\n",
        "a2.set_title(\"pneumonia\")"
      ],
      "execution_count": null,
      "outputs": [
        {
          "output_type": "error",
          "ename": "FileNotFoundError",
          "evalue": "ignored",
          "traceback": [
            "\u001b[0;31m---------------------------------------------------------------------------\u001b[0m",
            "\u001b[0;31mFileNotFoundError\u001b[0m                         Traceback (most recent call last)",
            "\u001b[0;32m<ipython-input-3-f72d863b32e6>\u001b[0m in \u001b[0;36m<module>\u001b[0;34m()\u001b[0m\n\u001b[1;32m      1\u001b[0m \u001b[0;32mimport\u001b[0m \u001b[0mrandom\u001b[0m\u001b[0;34m\u001b[0m\u001b[0;34m\u001b[0m\u001b[0m\n\u001b[0;32m----> 2\u001b[0;31m \u001b[0mrand_normal\u001b[0m \u001b[0;34m=\u001b[0m \u001b[0mrandom\u001b[0m\u001b[0;34m.\u001b[0m\u001b[0mchoice\u001b[0m\u001b[0;34m(\u001b[0m\u001b[0mos\u001b[0m\u001b[0;34m.\u001b[0m\u001b[0mlistdir\u001b[0m\u001b[0;34m(\u001b[0m\u001b[0mTRAIN_NORMAL\u001b[0m\u001b[0;34m)\u001b[0m\u001b[0;34m)\u001b[0m\u001b[0;34m\u001b[0m\u001b[0;34m\u001b[0m\u001b[0m\n\u001b[0m\u001b[1;32m      3\u001b[0m \u001b[0mrand_pnemonia\u001b[0m \u001b[0;34m=\u001b[0m \u001b[0mrandom\u001b[0m\u001b[0;34m.\u001b[0m\u001b[0mchoice\u001b[0m\u001b[0;34m(\u001b[0m\u001b[0mos\u001b[0m\u001b[0;34m.\u001b[0m\u001b[0mlistdir\u001b[0m\u001b[0;34m(\u001b[0m\u001b[0mTRAIN_PNEUMONIA\u001b[0m\u001b[0;34m)\u001b[0m\u001b[0;34m)\u001b[0m\u001b[0;34m\u001b[0m\u001b[0;34m\u001b[0m\u001b[0m\n\u001b[1;32m      4\u001b[0m \u001b[0;34m\u001b[0m\u001b[0m\n\u001b[1;32m      5\u001b[0m \u001b[0mnor_im\u001b[0m \u001b[0;34m=\u001b[0m \u001b[0mImage\u001b[0m\u001b[0;34m.\u001b[0m\u001b[0mopen\u001b[0m\u001b[0;34m(\u001b[0m\u001b[0mTRAIN_NORMAL\u001b[0m \u001b[0;34m+\u001b[0m \u001b[0;34m\"/\"\u001b[0m\u001b[0;34m+\u001b[0m\u001b[0mrand_normal\u001b[0m\u001b[0;34m)\u001b[0m\u001b[0;34m\u001b[0m\u001b[0;34m\u001b[0m\u001b[0m\n",
            "\u001b[0;31mFileNotFoundError\u001b[0m: [Errno 2] No such file or directory: 'chest_xray/train/NORMAL'"
          ]
        }
      ]
    },
    {
      "cell_type": "code",
      "metadata": {
        "id": "J4beZ6Sy8PR2"
      },
      "source": [
        "adama = optimizers.adam(lr=0.001)\n"
      ],
      "execution_count": null,
      "outputs": []
    },
    {
      "cell_type": "code",
      "metadata": {
        "id": "z40WVjkT9Cug",
        "outputId": "0d6fadff-7f49-4b0b-9ea4-79fe866d543d",
        "colab": {
          "base_uri": "https://localhost:8080/",
          "height": 67
        }
      },
      "source": [
        "train_gen = ImageDataGenerator(shear_range=0.2,horizontal_flip=True,rescale=1.0/255)\n",
        "\n",
        "test_gen = ImageDataGenerator(rescale=1.0/255)\n",
        "train_set = train_gen.flow_from_directory(directory=\"chest_xray/train\",\n",
        "                                                  target_size = (128,128),\n",
        "                                                  batch_size = 32,\n",
        "                                                  class_mode=\"binary\")\n",
        "test_set = test_gen.flow_from_directory(directory=\"chest_xray/test\",\n",
        "                                                  target_size = (128,128),\n",
        "                                                  batch_size = 32,\n",
        "                                                  class_mode=\"binary\")\n",
        "val_set = test_gen.flow_from_directory(directory=\"chest_xray/val\",\n",
        "                                                  target_size = (128,128),\n",
        "                                                  batch_size = 32,\n",
        "                                                  class_mode=\"binary\")"
      ],
      "execution_count": null,
      "outputs": [
        {
          "output_type": "stream",
          "text": [
            "Found 5216 images belonging to 2 classes.\n",
            "Found 624 images belonging to 2 classes.\n",
            "Found 16 images belonging to 2 classes.\n"
          ],
          "name": "stdout"
        }
      ]
    },
    {
      "cell_type": "code",
      "metadata": {
        "id": "dOWZA1T99H4r",
        "outputId": "1d2b7040-8fb9-48e7-d72f-b697b1a0f1a5",
        "colab": {
          "base_uri": "https://localhost:8080/",
          "height": 34
        }
      },
      "source": [
        "model = Sequential()\n",
        "\n",
        "model.add(Conv2D(32,(3,3),activation=\"relu\", input_shape=(128,128,3),name=\"conv_1.1\"))\n",
        "model.add(Conv2D(32,(3,3),activation=\"relu\",name=\"conv_1.2\"))\n",
        "model.add(MaxPooling2D((2,2),name=\"pool_1\"))\n",
        "\n",
        "model.add(SeparableConv2D(64,(3,3),activation=\"relu\",name=\"conv_2.1\"))\n",
        "model.add(SeparableConv2D(64,(3,3),activation=\"relu\",name=\"conv_2.2\"))\n",
        "model.add(MaxPooling2D((2,2),name=\"pool_2\"))\n",
        "\n",
        "model.add(SeparableConv2D(64,(3,3),name=\"conv_3.1\"))\n",
        "model.add(BatchNormalization(name='bn_3.1'))\n",
        "model.add(Activation(\"relu\"))\n",
        "model.add(SeparableConv2D(64,(3,3),activation=\"relu\",name=\"conv_3.2\"))\n",
        "model.add(MaxPooling2D((2,2),name=\"pool_3\"))\n",
        "\n",
        "model.add(SeparableConv2D(128,(3,3),name=\"conv_4.1\"))\n",
        "model.add(BatchNormalization(name='bn_4.1'))\n",
        "model.add(Activation(\"relu\"))\n",
        "model.add(SeparableConv2D(128,(3,3),activation=\"relu\",name=\"conv_4.2\"))\n",
        "model.add(MaxPooling2D((2,2),name=\"pool_4\"))\n",
        "\n",
        "model.add(Flatten())\n",
        "\n",
        "model.add(Dense(activation=\"relu\",units=128,\n",
        "                kernel_regularizer=regularizers.l2(0.01)))\n",
        "model.add(Dropout(0.7,name=\"Drop_2\"))\n",
        "model.add(Dense(activation=\"sigmoid\",units=1))\n",
        "\n",
        "model.compile(optimizer=adama,loss = \"binary_crossentropy\", metrics=[\"accuracy\"])"
      ],
      "execution_count": null,
      "outputs": [
        {
          "output_type": "stream",
          "text": [
            "WARNING:tensorflow:Large dropout rate: 0.7 (>0.5). In TensorFlow 2.x, dropout() uses dropout rate instead of keep_prob. Please ensure that this is intended.\n"
          ],
          "name": "stdout"
        }
      ]
    },
    {
      "cell_type": "code",
      "metadata": {
        "id": "7KpmOeh09o-n",
        "outputId": "7a547ac5-7740-408a-cc71-53fd92dcee4f",
        "colab": {
          "base_uri": "https://localhost:8080/",
          "height": 823
        }
      },
      "source": [
        "model.summary()\n"
      ],
      "execution_count": null,
      "outputs": [
        {
          "output_type": "stream",
          "text": [
            "Model: \"sequential_2\"\n",
            "_________________________________________________________________\n",
            "Layer (type)                 Output Shape              Param #   \n",
            "=================================================================\n",
            "conv_1.1 (Conv2D)            (None, 126, 126, 32)      896       \n",
            "_________________________________________________________________\n",
            "conv_1.2 (Conv2D)            (None, 124, 124, 32)      9248      \n",
            "_________________________________________________________________\n",
            "pool_1 (MaxPooling2D)        (None, 62, 62, 32)        0         \n",
            "_________________________________________________________________\n",
            "conv_2.1 (SeparableConv2D)   (None, 60, 60, 64)        2400      \n",
            "_________________________________________________________________\n",
            "conv_2.2 (SeparableConv2D)   (None, 58, 58, 64)        4736      \n",
            "_________________________________________________________________\n",
            "pool_2 (MaxPooling2D)        (None, 29, 29, 64)        0         \n",
            "_________________________________________________________________\n",
            "conv_3.1 (SeparableConv2D)   (None, 27, 27, 64)        4736      \n",
            "_________________________________________________________________\n",
            "bn_3.1 (BatchNormalization)  (None, 27, 27, 64)        256       \n",
            "_________________________________________________________________\n",
            "activation_3 (Activation)    (None, 27, 27, 64)        0         \n",
            "_________________________________________________________________\n",
            "conv_3.2 (SeparableConv2D)   (None, 25, 25, 64)        4736      \n",
            "_________________________________________________________________\n",
            "pool_3 (MaxPooling2D)        (None, 12, 12, 64)        0         \n",
            "_________________________________________________________________\n",
            "conv_4.1 (SeparableConv2D)   (None, 10, 10, 128)       8896      \n",
            "_________________________________________________________________\n",
            "bn_4.1 (BatchNormalization)  (None, 10, 10, 128)       512       \n",
            "_________________________________________________________________\n",
            "activation_4 (Activation)    (None, 10, 10, 128)       0         \n",
            "_________________________________________________________________\n",
            "conv_4.2 (SeparableConv2D)   (None, 8, 8, 128)         17664     \n",
            "_________________________________________________________________\n",
            "pool_4 (MaxPooling2D)        (None, 4, 4, 128)         0         \n",
            "_________________________________________________________________\n",
            "flatten_2 (Flatten)          (None, 2048)              0         \n",
            "_________________________________________________________________\n",
            "dense_3 (Dense)              (None, 128)               262272    \n",
            "_________________________________________________________________\n",
            "Drop_2 (Dropout)             (None, 128)               0         \n",
            "_________________________________________________________________\n",
            "dense_4 (Dense)              (None, 1)                 129       \n",
            "=================================================================\n",
            "Total params: 316,481\n",
            "Trainable params: 316,097\n",
            "Non-trainable params: 384\n",
            "_________________________________________________________________\n"
          ],
          "name": "stdout"
        }
      ]
    },
    {
      "cell_type": "code",
      "metadata": {
        "id": "HE2q1DFD90WW",
        "outputId": "6e19d7a3-23ea-4b28-da9b-3f9983fcde63",
        "colab": {
          "base_uri": "https://localhost:8080/",
          "height": 1000
        }
      },
      "source": [
        "filepath=\"weights.best.hdf5\"\n",
        "checkpoint = ModelCheckpoint(filepath, monitor='val_acc', verbose=1, save_best_only=True, mode='max')\n",
        "callbacks_list = [checkpoint]\n",
        "xray_model = model.fit_generator(train_set,\n",
        "                                steps_per_epoch = 163,\n",
        "                                callbacks=callbacks_list,\n",
        "                                epochs = 20,\n",
        "                                validation_data = test_set,\n",
        "                                validation_steps = 624//32)"
      ],
      "execution_count": null,
      "outputs": [
        {
          "output_type": "stream",
          "text": [
            "WARNING:tensorflow:From /usr/local/lib/python3.6/dist-packages/keras/backend/tensorflow_backend.py:1033: The name tf.assign_add is deprecated. Please use tf.compat.v1.assign_add instead.\n",
            "\n",
            "WARNING:tensorflow:From /usr/local/lib/python3.6/dist-packages/keras/backend/tensorflow_backend.py:1020: The name tf.assign is deprecated. Please use tf.compat.v1.assign instead.\n",
            "\n",
            "Epoch 1/20\n",
            "163/163 [==============================] - 353s 2s/step - loss: 0.6566 - acc: 0.8313 - val_loss: 0.6349 - val_acc: 0.6990\n",
            "\n",
            "Epoch 00001: val_acc improved from -inf to 0.69901, saving model to weights.best.hdf5\n",
            "Epoch 2/20\n",
            "163/163 [==============================] - 346s 2s/step - loss: 0.2318 - acc: 0.9344 - val_loss: 0.9102 - val_acc: 0.6807\n",
            "\n",
            "Epoch 00002: val_acc did not improve from 0.69901\n",
            "Epoch 3/20\n",
            "163/163 [==============================] - 343s 2s/step - loss: 0.1730 - acc: 0.9540 - val_loss: 1.3148 - val_acc: 0.6571\n",
            "\n",
            "Epoch 00003: val_acc did not improve from 0.69901\n",
            "Epoch 4/20\n",
            "163/163 [==============================] - 345s 2s/step - loss: 0.1633 - acc: 0.9557 - val_loss: 1.2586 - val_acc: 0.6892\n",
            "\n",
            "Epoch 00004: val_acc did not improve from 0.69901\n",
            "Epoch 5/20\n",
            "163/163 [==============================] - 346s 2s/step - loss: 0.1538 - acc: 0.9578 - val_loss: 0.5929 - val_acc: 0.7618\n",
            "\n",
            "Epoch 00005: val_acc improved from 0.69901 to 0.76182, saving model to weights.best.hdf5\n",
            "Epoch 6/20\n",
            "163/163 [==============================] - 346s 2s/step - loss: 0.1340 - acc: 0.9661 - val_loss: 0.5009 - val_acc: 0.7855\n",
            "\n",
            "Epoch 00006: val_acc improved from 0.76182 to 0.78547, saving model to weights.best.hdf5\n",
            "Epoch 7/20\n",
            "163/163 [==============================] - 345s 2s/step - loss: 0.1275 - acc: 0.9657 - val_loss: 1.6138 - val_acc: 0.6554\n",
            "\n",
            "Epoch 00007: val_acc did not improve from 0.78547\n",
            "Epoch 8/20\n",
            "163/163 [==============================] - 345s 2s/step - loss: 0.1232 - acc: 0.9693 - val_loss: 0.7207 - val_acc: 0.7432\n",
            "\n",
            "Epoch 00008: val_acc did not improve from 0.78547\n",
            "Epoch 9/20\n",
            "163/163 [==============================] - 345s 2s/step - loss: 0.1140 - acc: 0.9741 - val_loss: 0.6134 - val_acc: 0.8429\n",
            "\n",
            "Epoch 00009: val_acc improved from 0.78547 to 0.84291, saving model to weights.best.hdf5\n",
            "Epoch 10/20\n",
            "163/163 [==============================] - 347s 2s/step - loss: 0.1077 - acc: 0.9749 - val_loss: 1.3991 - val_acc: 0.7111\n",
            "\n",
            "Epoch 00010: val_acc did not improve from 0.84291\n",
            "Epoch 11/20\n",
            "163/163 [==============================] - 345s 2s/step - loss: 0.1072 - acc: 0.9760 - val_loss: 1.4881 - val_acc: 0.6419\n",
            "\n",
            "Epoch 00011: val_acc did not improve from 0.84291\n",
            "Epoch 12/20\n",
            "163/163 [==============================] - 344s 2s/step - loss: 0.1123 - acc: 0.9722 - val_loss: 0.5795 - val_acc: 0.8057\n",
            "\n",
            "Epoch 00012: val_acc did not improve from 0.84291\n",
            "Epoch 13/20\n",
            "163/163 [==============================] - 345s 2s/step - loss: 0.1037 - acc: 0.9747 - val_loss: 0.4286 - val_acc: 0.8176\n",
            "\n",
            "Epoch 00013: val_acc did not improve from 0.84291\n",
            "Epoch 14/20\n",
            "163/163 [==============================] - 346s 2s/step - loss: 0.0961 - acc: 0.9762 - val_loss: 1.5802 - val_acc: 0.7044\n",
            "\n",
            "Epoch 00014: val_acc did not improve from 0.84291\n",
            "Epoch 15/20\n",
            "163/163 [==============================] - 345s 2s/step - loss: 0.0912 - acc: 0.9793 - val_loss: 1.0092 - val_acc: 0.6807\n",
            "\n",
            "Epoch 00015: val_acc did not improve from 0.84291\n",
            "Epoch 16/20\n",
            "163/163 [==============================] - 344s 2s/step - loss: 0.0970 - acc: 0.9747 - val_loss: 1.1291 - val_acc: 0.7128\n",
            "\n",
            "Epoch 00016: val_acc did not improve from 0.84291\n",
            "Epoch 17/20\n",
            "163/163 [==============================] - 345s 2s/step - loss: 0.0838 - acc: 0.9789 - val_loss: 1.6633 - val_acc: 0.6993\n",
            "\n",
            "Epoch 00017: val_acc did not improve from 0.84291\n",
            "Epoch 18/20\n",
            "163/163 [==============================] - 347s 2s/step - loss: 0.0817 - acc: 0.9797 - val_loss: 0.8103 - val_acc: 0.7770\n",
            "\n",
            "Epoch 00018: val_acc did not improve from 0.84291\n",
            "Epoch 19/20\n",
            "163/163 [==============================] - 347s 2s/step - loss: 0.0778 - acc: 0.9820 - val_loss: 0.4565 - val_acc: 0.7787\n",
            "\n",
            "Epoch 00019: val_acc did not improve from 0.84291\n",
            "Epoch 20/20\n",
            "163/163 [==============================] - 344s 2s/step - loss: 0.0775 - acc: 0.9835 - val_loss: 1.4444 - val_acc: 0.7466\n",
            "\n",
            "Epoch 00020: val_acc did not improve from 0.84291\n"
          ],
          "name": "stdout"
        }
      ]
    },
    {
      "cell_type": "code",
      "metadata": {
        "id": "xnuRcD7S-DNW"
      },
      "source": [
        "model.save('model.h5')\n"
      ],
      "execution_count": null,
      "outputs": []
    },
    {
      "cell_type": "code",
      "metadata": {
        "id": "YEMouUIkZxjX",
        "outputId": "42d86c71-902e-426a-a919-448aeec8ff94",
        "colab": {
          "base_uri": "https://localhost:8080/",
          "height": 34
        }
      },
      "source": [
        "!ls\n"
      ],
      "execution_count": null,
      "outputs": [
        {
          "output_type": "stream",
          "text": [
            "chest_xray  chest-xray-pneumonia.zip  model.h5\tsample_data  weights.best.hdf5\n"
          ],
          "name": "stdout"
        }
      ]
    },
    {
      "cell_type": "code",
      "metadata": {
        "id": "yvQ8AnfnZzLj"
      },
      "source": [
        "test_accu = model.evaluate_generator(test_set,steps=624//32)\n"
      ],
      "execution_count": null,
      "outputs": []
    },
    {
      "cell_type": "code",
      "metadata": {
        "id": "fajlvsUZZ51n",
        "outputId": "406740b0-853e-48b7-b0f2-a3a8ec2f8411",
        "colab": {
          "base_uri": "https://localhost:8080/",
          "height": 34
        }
      },
      "source": [
        "test_accu"
      ],
      "execution_count": null,
      "outputs": [
        {
          "output_type": "execute_result",
          "data": {
            "text/plain": [
              "[1.4864881383745294, 0.7417763157894737]"
            ]
          },
          "metadata": {
            "tags": []
          },
          "execution_count": 39
        }
      ]
    },
    {
      "cell_type": "code",
      "metadata": {
        "id": "IsFPLnrdaCEb",
        "outputId": "f49dd88e-af45-41b2-c854-d7403a87cac2",
        "colab": {
          "base_uri": "https://localhost:8080/",
          "height": 295
        }
      },
      "source": [
        "plt.plot(xray_model.history['acc'])\n",
        "plt.plot(xray_model.history['val_acc'])\n",
        "plt.title('Model Accuracy')\n",
        "plt.ylabel('Accuracy')\n",
        "plt.xlabel('Epoch')\n",
        "plt.legend(['Training set', 'Validation set'], loc='upper left')\n",
        "plt.show()"
      ],
      "execution_count": null,
      "outputs": [
        {
          "output_type": "display_data",
          "data": {
            "image/png": "[encoded data removed]",
            "text/plain": [
              "<Figure size 432x288 with 1 Axes>"
            ]
          },
          "metadata": {
            "tags": []
          }
        }
      ]
    },
    {
      "cell_type": "code",
      "metadata": {
        "id": "_9UEM2Qpe0d7",
        "outputId": "005b6326-8dee-4f8f-cb16-4c2e10f90e42",
        "colab": {
          "base_uri": "https://localhost:8080/",
          "height": 286
        }
      },
      "source": [
        "plt.plot(xray_model.history['val_acc'],c='g')\n",
        "plt.plot(xray_model.history['acc'],c='b')"
      ],
      "execution_count": null,
      "outputs": [
        {
          "output_type": "execute_result",
          "data": {
            "text/plain": [
              "[<matplotlib.lines.Line2D at 0x7efb943bfa58>]"
            ]
          },
          "metadata": {
            "tags": []
          },
          "execution_count": 50
        },
        {
          "output_type": "display_data",
          "data": {
            "image/png": "[encoded data removed]",
            "text/plain": [
              "<Figure size 432x288 with 1 Axes>"
            ]
          },
          "metadata": {
            "tags": []
          }
        }
      ]
    },
    {
      "cell_type": "code",
      "metadata": {
        "id": "DIq4AM9zhvMl",
        "outputId": "21a3728c-7180-421d-b5d9-4f7b4f72f406",
        "colab": {
          "base_uri": "https://localhost:8080/",
          "height": 34
        }
      },
      "source": [
        "!cd ..\n",
        "!ls\n",
        "\n",
        "\n",
        "\n"
      ],
      "execution_count": null,
      "outputs": [
        {
          "output_type": "stream",
          "text": [
            "sample_data\n"
          ],
          "name": "stdout"
        }
      ]
    },
    {
      "cell_type": "code",
      "metadata": {
        "id": "3cyXT7pyaNwU",
        "outputId": "97f20899-4c15-41ec-b08b-bfd13d4e7f6b",
        "colab": {
          "base_uri": "https://localhost:8080/",
          "height": 296
        }
      },
      "source": [
        "from google.colab import files\n",
        "files.download(\"model.h5\")"
      ],
      "execution_count": null,
      "outputs": [
        {
          "output_type": "error",
          "ename": "FileNotFoundError",
          "evalue": "ignored",
          "traceback": [
            "\u001b[0;31m---------------------------------------------------------------------------\u001b[0m",
            "\u001b[0;31mFileNotFoundError\u001b[0m                         Traceback (most recent call last)",
            "\u001b[0;32m<ipython-input-9-cebaff925663>\u001b[0m in \u001b[0;36m<module>\u001b[0;34m()\u001b[0m\n\u001b[1;32m      1\u001b[0m \u001b[0;32mfrom\u001b[0m \u001b[0mgoogle\u001b[0m\u001b[0;34m.\u001b[0m\u001b[0mcolab\u001b[0m \u001b[0;32mimport\u001b[0m \u001b[0mfiles\u001b[0m\u001b[0;34m\u001b[0m\u001b[0;34m\u001b[0m\u001b[0m\n\u001b[0;32m----> 2\u001b[0;31m \u001b[0mfiles\u001b[0m\u001b[0;34m.\u001b[0m\u001b[0mdownload\u001b[0m\u001b[0;34m(\u001b[0m\u001b[0;34m\"model.h5\"\u001b[0m\u001b[0;34m)\u001b[0m\u001b[0;34m\u001b[0m\u001b[0;34m\u001b[0m\u001b[0m\n\u001b[0m",
            "\u001b[0;32m/usr/local/lib/python3.6/dist-packages/google/colab/files.py\u001b[0m in \u001b[0;36mdownload\u001b[0;34m(filename)\u001b[0m\n\u001b[1;32m    142\u001b[0m       \u001b[0;32mraise\u001b[0m \u001b[0mOSError\u001b[0m\u001b[0;34m(\u001b[0m\u001b[0mmsg\u001b[0m\u001b[0;34m)\u001b[0m\u001b[0;34m\u001b[0m\u001b[0;34m\u001b[0m\u001b[0m\n\u001b[1;32m    143\u001b[0m     \u001b[0;32melse\u001b[0m\u001b[0;34m:\u001b[0m\u001b[0;34m\u001b[0m\u001b[0;34m\u001b[0m\u001b[0m\n\u001b[0;32m--> 144\u001b[0;31m       \u001b[0;32mraise\u001b[0m \u001b[0mFileNotFoundError\u001b[0m\u001b[0;34m(\u001b[0m\u001b[0mmsg\u001b[0m\u001b[0;34m)\u001b[0m  \u001b[0;31m# pylint: disable=undefined-variable\u001b[0m\u001b[0;34m\u001b[0m\u001b[0;34m\u001b[0m\u001b[0m\n\u001b[0m\u001b[1;32m    145\u001b[0m \u001b[0;34m\u001b[0m\u001b[0m\n\u001b[1;32m    146\u001b[0m   \u001b[0mstarted\u001b[0m \u001b[0;34m=\u001b[0m \u001b[0m_threading\u001b[0m\u001b[0;34m.\u001b[0m\u001b[0mEvent\u001b[0m\u001b[0;34m(\u001b[0m\u001b[0;34m)\u001b[0m\u001b[0;34m\u001b[0m\u001b[0;34m\u001b[0m\u001b[0m\n",
            "\u001b[0;31mFileNotFoundError\u001b[0m: Cannot find file: model.h5"
          ]
        }
      ]
    },
    {
      "cell_type": "code",
      "metadata": {
        "id": "PSOQqarHgj8T"
      },
      "source": [
        "from google.colab import drive\n",
        "drive.mount('/content/drive')"
      ],
      "execution_count": null,
      "outputs": []
    },
    {
      "cell_type": "code",
      "metadata": {
        "id": "Hc7SbQ4afkV4"
      },
      "source": [],
      "execution_count": null,
      "outputs": []
    }
  ]
}